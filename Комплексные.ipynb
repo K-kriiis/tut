{
 "cells": [
  {
   "cell_type": "code",
   "execution_count": 1,
   "id": "5592985f-a74e-4f69-a70f-4680e206f5de",
   "metadata": {},
   "outputs": [
    {
     "name": "stdout",
     "output_type": "stream",
     "text": [
      "(3.5-2j)\n",
      "(4+5j)\n"
     ]
    }
   ],
   "source": [
    "a = complex(3.5,-2)\n",
    "print(a)\n",
    "b = 4+5j\n",
    "print(b)"
   ]
  },
  {
   "cell_type": "code",
   "execution_count": 2,
   "id": "5435479c-5716-4297-a890-3cb03fe68eee",
   "metadata": {},
   "outputs": [
    {
     "name": "stdout",
     "output_type": "stream",
     "text": [
      "(-1+0j)\n",
      "(10+10j)\n",
      "(5-5j)\n"
     ]
    }
   ],
   "source": [
    "a=1j\n",
    "print(a**2)\n",
    "z=(3-1j)*(2+4j)\n",
    "print(z)\n",
    "b = z/2j\n",
    "print(b)\n"
   ]
  },
  {
   "cell_type": "code",
   "execution_count": 4,
   "id": "1f164df4-a2af-4c2e-a396-07adbf7d3191",
   "metadata": {},
   "outputs": [
    {
     "name": "stdout",
     "output_type": "stream",
     "text": [
      "(9+7j)\n"
     ]
    }
   ],
   "source": [
    "a=(2+3j)*(3-1j)\n",
    "print(a)"
   ]
  },
  {
   "cell_type": "code",
   "execution_count": 5,
   "id": "75e47fbe-3c26-455a-9d01-9bae0d3b1d9a",
   "metadata": {},
   "outputs": [
    {
     "name": "stdout",
     "output_type": "stream",
     "text": [
      "-4j\n"
     ]
    }
   ],
   "source": [
    "b = ((1-1j)**3)-((1+1j)**3)\n",
    "print(b)"
   ]
  },
  {
   "cell_type": "code",
   "execution_count": 9,
   "id": "05960280-48f5-41b7-a8a6-6820c765e6f4",
   "metadata": {},
   "outputs": [
    {
     "name": "stdout",
     "output_type": "stream",
     "text": [
      "[[ 0.+1.j -1.+0.j -0.-1.j  1.+0.j  0.+1.j -1.+0.j -0.-1.j  1.+0.j]]\n"
     ]
    }
   ],
   "source": [
    "import numpy as np\n",
    "k = np.arange(1,9,1)\n",
    "z = np.ones((1,8))*1j\n",
    "y = np.power(z,k) \n",
    "print(y)"
   ]
  },
  {
   "cell_type": "code",
   "execution_count": 11,
   "id": "e3a8e76e-1ccf-4eaa-b785-57097d70283b",
   "metadata": {},
   "outputs": [
    {
     "name": "stdout",
     "output_type": "stream",
     "text": [
      "(-0.35294117647058826-0.5882352941176471j)\n"
     ]
    }
   ],
   "source": [
    "c = ((2-3j)/(1+4j)) + 1/(4-1j)\n",
    "print(c)"
   ]
  },
  {
   "cell_type": "code",
   "execution_count": 12,
   "id": "9cc44fb5-d3d2-4950-91fa-9cd8dc60bc4d",
   "metadata": {},
   "outputs": [
    {
     "name": "stdout",
     "output_type": "stream",
     "text": [
      "(3+7j)\n",
      "3.0\n",
      "-7.0\n",
      "7.615773105863909\n",
      "[ 5. 10.]\n",
      "[1. 1. 1. 1.]\n",
      "[ 0.          1.57079633  3.14159265 -1.57079633]\n"
     ]
    }
   ],
   "source": [
    "import numpy as np\n",
    "z = 3-7j\n",
    "print(np.conj(z))\n",
    "print(np.real(z))\n",
    "print(np.imag(z))\n",
    "print(np.abs(z))\n",
    "y = np.array([3+4j, 8-6j])\n",
    "print(np.abs(y))\n",
    "z=np.array([1, 1j, -1, -1j])\n",
    "print(np.abs(z))\n",
    "print(np.angle(z))"
   ]
  },
  {
   "cell_type": "code",
   "execution_count": 15,
   "id": "b25c4385-9abd-40e5-8809-f8b134ced9a2",
   "metadata": {},
   "outputs": [
    {
     "name": "stdout",
     "output_type": "stream",
     "text": [
      "-3.9999999999999996j\n",
      "(0.5000000000000001+0.8660254037844387j)\n"
     ]
    }
   ],
   "source": [
    "import numpy as np\n",
    "z1 = 1 - 1j*3**0.5\n",
    "z2 = 3**0.5 + 1j\n",
    "z3 = np.conj(z1)\n",
    "z4 = np.conj(z2)\n",
    "p = z1*z4\n",
    "d = (z3/z2)**2\n",
    "print(p)\n",
    "print(d)"
   ]
  },
  {
   "cell_type": "code",
   "execution_count": 34,
   "id": "bf1b64a2-b58f-4587-ae3a-8eba5ecacba0",
   "metadata": {},
   "outputs": [
    {
     "name": "stdout",
     "output_type": "stream",
     "text": [
      "50.0\n",
      "50.00999900019995\n",
      "-1.0\n",
      "-0.01999733397315053\n",
      "(50+1j)\n"
     ]
    }
   ],
   "source": [
    "import numpy as np\n",
    "z = (4-5j)*(5-6j*1j*1j)\n",
    "d = np.real(z)\n",
    "mn = np.imag(z)\n",
    "a = np.abs(z)  \n",
    "ar = np.angle(z) \n",
    "z1 = np.conj (z)\n",
    "print(d)\n",
    "print(a)\n",
    "print(mn)\n",
    "print(ar)\n",
    "print(z1)"
   ]
  },
  {
   "cell_type": "code",
   "execution_count": 35,
   "id": "cadc70ee-30a1-4e7d-96e8-a20a81239b4e",
   "metadata": {},
   "outputs": [
    {
     "name": "stdout",
     "output_type": "stream",
     "text": [
      "128.0\n",
      "181.01933598375618\n",
      "-128.0\n",
      "-0.7853981633974483\n",
      "(128+128j)\n"
     ]
    }
   ],
   "source": [
    "import numpy as np\n",
    "z = (1+1j)**15\n",
    "d = np.real(z)\n",
    "mn = np.imag(z)\n",
    "a = np.abs(z)  \n",
    "ar = np.angle(z) \n",
    "z1 = np.conj (z)\n",
    "print(d)\n",
    "print(a)\n",
    "print(mn)\n",
    "print(ar)\n",
    "print(z1)"
   ]
  },
  {
   "cell_type": "code",
   "execution_count": 36,
   "id": "780efd74-6da4-44b7-9acd-466dd8e3857c",
   "metadata": {},
   "outputs": [
    {
     "data": {
      "image/png": "[encoded data removed]",
      "text/plain": [
       "<Figure size 432x288 with 1 Axes>"
      ]
     },
     "metadata": {
      "needs_background": "light"
     },
     "output_type": "display_data"
    }
   ],
   "source": [
    "import matplotlib.pyplot as plt\n",
    "import numpy as np\n",
    "x = np.array([2+3j, 2-3j, -2+3j, -2-3j])\n",
    "plt.plot()\n",
    "plt.scatter(np.real(x),np.imag(x), marker=\"*\", color=\"green\", s=30)\n",
    "plt.axis('equal')\n",
    "plt.axhline(y=0, color='k')\n",
    "plt.axvline(x=0, color='k')\n",
    "plt.grid(True)\n",
    "plt.title('Complex numbers')\n",
    "plt.xlabel('Re(z)')\n",
    "plt.ylabel('Im(z)')\n",
    "plt.show()"
   ]
  },
  {
   "cell_type": "code",
   "execution_count": 37,
   "id": "58abb822-94f0-4fa0-8fec-0dd654203b9f",
   "metadata": {},
   "outputs": [
    {
     "data": {
      "image/png": "[encoded data removed]",
      "text/plain": [
       "<Figure size 432x288 with 1 Axes>"
      ]
     },
     "metadata": {
      "needs_background": "light"
     },
     "output_type": "display_data"
    }
   ],
   "source": [
    "import matplotlib.pyplot as plt\n",
    "import numpy as np\n",
    "x = np.array([2+3j, 2-3j, -2+3j, -2-3j])\n",
    "orig = np.zeros(4)\n",
    "plt.plot()\n",
    "q = plt.quiver(orig,orig, np.real(x), np.imag(x),\n",
    "angles='xy', scale_units='xy', scale=1, color=\"green\")\n",
    "plt.axis([-4,4,-4,4])\n",
    "plt.axhline(y=0, color='k')\n",
    "plt.axvline(x=0, color='k')\n",
    "plt.grid(True)\n",
    "plt.title('Complex numbers')\n",
    "plt.xlabel('Re(z)')\n",
    "plt.ylabel('Im(z)')\n",
    "plt.show()"
   ]
  },
  {
   "cell_type": "code",
   "execution_count": 4,
   "id": "53da1ea3-ba4e-45c2-a696-5eec3adcb438",
   "metadata": {},
   "outputs": [
    {
     "data": {
      "image/png": "[encoded data removed]",
      "text/plain": [
       "<Figure size 432x288 with 1 Axes>"
      ]
     },
     "metadata": {
      "needs_background": "light"
     },
     "output_type": "display_data"
    }
   ],
   "source": [
    "import matplotlib.pyplot as plt\n",
    "import numpy as np\n",
    "x = np.array([1+3j, 3+4j, (1+3j)+(3+4j),(1+3j)-(3+4j)])\n",
    "orig = np.zeros(4)\n",
    "plt.plot()\n",
    "q = plt.quiver(orig,orig, np.real(x), np.imag(x),\n",
    "angles='xy', scale_units='xy', scale=1, color=\"green\")\n",
    "plt.axis([-7,8,-7,8])\n",
    "plt.axhline(y=0, color='k')\n",
    "plt.axvline(x=0, color='k')\n",
    "plt.grid(True)\n",
    "plt.title('Complex numbers')\n",
    "plt.xlabel('Re(z)')\n",
    "plt.ylabel('Im(z)')\n",
    "plt.show()"
   ]
  },
  {
   "cell_type": "code",
   "execution_count": 6,
   "id": "0fe2697c-f378-453e-ae7f-014636fcb3eb",
   "metadata": {},
   "outputs": [
    {
     "name": "stdout",
     "output_type": "stream",
     "text": [
      "[ 0.40543897+0.97881627j -0.64496027+0.84052858j -1.05039924-0.13828768j\n",
      " -0.40543897-0.97881627j  0.64496027-0.84052858j  1.05039924+0.13828768j]\n"
     ]
    },
    {
     "data": {
      "text/plain": [
       "[<matplotlib.lines.Line2D at 0x18eeb8cb4f0>]"
      ]
     },
     "execution_count": 6,
     "metadata": {},
     "output_type": "execute_result"
    },
    {
     "data": {
      "image/png": "[encoded data removed]",
      "text/plain": [
       "<Figure size 432x288 with 1 Axes>"
      ]
     },
     "metadata": {
      "needs_background": "light"
     },
     "output_type": "display_data"
    }
   ],
   "source": [
    "import matplotlib.pyplot as plt\n",
    "import numpy as np\n",
    "z = 1 +1j\n",
    "r = np.abs(z)\n",
    "phi=np.angle(z)\n",
    "k = np.arange(1,7)\n",
    "zroot = r**(1/6)*( np.cos((phi+2.0*np.pi*k)/6) + 1j*np.sin((phi+2.0*np.pi*k)/6))\n",
    "print(zroot)\n",
    "plt.title('$\\sqrt[6]{1+j}$ complex roots')\n",
    "plt.plot(np.real(zroot), np.imag(zroot), '*g')\n",
    "plt.axhline(y=0, color='k')\n",
    "plt.axvline(x=0, color='k')\n",
    "plt.axis('equal')\n",
    "t = np.linspace(0,2*np.pi,100)\n",
    "plt.plot(r**(1/6)*np.cos(t),r**(1/6)*np.sin(t),':')\n",
    "# Добавляем к рисунку окружность, на которой лежат все корни\n"
   ]
  },
  {
   "cell_type": "code",
   "execution_count": 9,
   "id": "26b2a9e3-b32e-4b4c-b7ee-b6c1a58dddf1",
   "metadata": {},
   "outputs": [
    {
     "data": {
      "text/plain": [
       "Text(0, 0.5, 'Im(z)')"
      ]
     },
     "execution_count": 9,
     "metadata": {},
     "output_type": "execute_result"
    },
    {
     "data": {
      "image/png": "[encoded data removed]",
      "text/plain": [
       "<Figure size 432x288 with 1 Axes>"
      ]
     },
     "metadata": {
      "needs_background": "light"
     },
     "output_type": "display_data"
    }
   ],
   "source": [
    "import matplotlib.pyplot as plt\n",
    "import numpy as np\n",
    "z = 2*np.sqrt(3)-2j\n",
    "r = np.abs(z)\n",
    "phi=np.angle(z)\n",
    "k = np.arange(1,7)\n",
    "zroot = r**(1/4)*( np.cos((phi+2.0*np.pi*k)/4) + 1j*np.sin((phi+2.0*np.pi*k)/4))\n",
    "plt.axis([-5,5,-5,5])\n",
    "plt.title('$\\sqrt[6]{1+j}$ complex roots')\n",
    "plt.plot(np.real(zroot), np.imag(zroot), '*g')\n",
    "plt.axhline(y=0, color='k')\n",
    "plt.axvline(x=0, color='k')\n",
    "plt.axis('equal')\n",
    "plt.grid(True)\n",
    "t = np.linspace(0,2*np.pi,1000)\n",
    "plt.plot(r**(1/4)*np.cos(t),r**(1/4)*np.sin(t),':')\n",
    "x1=np.real(zroot[1])\n",
    "y1=np.imag(zroot[1])\n",
    "x2=np.real(zroot[2])\n",
    "y2=np.imag(zroot[2])\n",
    "x3=np.real(zroot[3])\n",
    "y3=np.imag(zroot[3])\n",
    "x4=np.real(zroot[4])\n",
    "y4=np.imag(zroot[4])\n",
    "plt.plot([x1,x2],[y1,y2], '-.')\n",
    "plt.plot([x2,x3],[y2,y3], '-.')\n",
    "plt.plot([x3,x4],[y3,y4], '-.')\n",
    "plt.plot([x4,x1],[y4,y1], '-.')\n",
    "plt.xlabel('Re(z)')\n",
    "plt.ylabel('Im(z)')\n"
   ]
  },
  {
   "cell_type": "code",
   "execution_count": 11,
   "id": "21c85e72-bbf1-49f8-9f01-353277cec8fb",
   "metadata": {},
   "outputs": [
    {
     "data": {
      "image/png": "[encoded data removed]",
      "text/plain": [
       "<Figure size 432x288 with 1 Axes>"
      ]
     },
     "metadata": {
      "needs_background": "light"
     },
     "output_type": "display_data"
    }
   ],
   "source": [
    "import matplotlib.pyplot as plt\n",
    "import numpy as np\n",
    "r=5\n",
    "t = np.linspace(0,2*np.pi,100)\n",
    "z = r*(np.cos(t)+1j*np.sin(t))\n",
    "plt.plot(np.real(z),np.imag(z),'r')\n",
    "plt.grid(True)\n",
    "plt.axis('equal')\n",
    "plt.axhline(y=0, color='k')\n",
    "plt.axvline(x=0, color='k')\n",
    "plt.title('|z|='+str(r))\n",
    "plt.xlabel('Re(z)')\n",
    "plt.ylabel('Im(z)')\n",
    "plt.show()\n"
   ]
  },
  {
   "cell_type": "code",
   "execution_count": 54,
   "id": "ee3e9876-bcd3-4d12-ba62-3607d0f24d03",
   "metadata": {},
   "outputs": [
    {
     "data": {
      "text/plain": [
       "Text(0.5, 1.0, 'Arg = 5*pi/6')"
      ]
     },
     "execution_count": 54,
     "metadata": {},
     "output_type": "execute_result"
    },
    {
     "data": {
      "image/png": "[encoded data removed]",
      "text/plain": [
       "<Figure size 432x288 with 2 Axes>"
      ]
     },
     "metadata": {
      "needs_background": "light"
     },
     "output_type": "display_data"
    }
   ],
   "source": [
    "import matplotlib.pyplot as plt\n",
    "import numpy as np\n",
    "arg = np.pi*1/4\n",
    "r  = np.linspace(-5,5,100)\n",
    "plt.subplot(2,2,1)\n",
    "z = r*(np.cos(arg)+1j*np.sin(arg))\n",
    "plt.plot(np.real(z),np.imag(z),'r')\n",
    "plt.axis('equal')\n",
    "plt.axhline(y=0, color='k')\n",
    "plt.axvline(x=0, color='k')\n",
    "plt.xlabel('Re(z)')\n",
    "plt.ylabel('Im(z)')\n",
    "plt.grid(True)\n",
    "plt.title('Arg = pi/4')\n",
    "plt.subplot(2,2,2)\n",
    "arg1 = 5*np.pi/6\n",
    "z1 = r*(np.cos(arg1)+1j*np.sin(arg1))\n",
    "plt.plot(np.real(z1),np.imag(z1),'r')\n",
    "plt.grid(True)\n",
    "plt.axis('equal')\n",
    "plt.axhline(y=0, color='k')\n",
    "plt.axvline(x=0, color='k')\n",
    "plt.xlabel('Re(z)')\n",
    "plt.ylabel('Im(z)')\n",
    "plt.title('Arg = 5*pi/6')"
   ]
  },
  {
   "cell_type": "code",
   "execution_count": 56,
   "id": "2c10bc00-f1fa-4526-99eb-74d87e352727",
   "metadata": {},
   "outputs": [
    {
     "name": "stdout",
     "output_type": "stream",
     "text": [
      "(1+7j)\n"
     ]
    }
   ],
   "source": [
    "c = (1+2j)**2 * (1-1j)\n",
    "print(c)"
   ]
  },
  {
   "cell_type": "code",
   "execution_count": 57,
   "id": "8638c430-3c0b-45fb-a9e8-5a4e29e67212",
   "metadata": {},
   "outputs": [
    {
     "name": "stdout",
     "output_type": "stream",
     "text": [
      "-0j\n"
     ]
    }
   ],
   "source": [
    "a = (1-1j)**4 - (1+1j)**4\n",
    "print(a)"
   ]
  },
  {
   "cell_type": "code",
   "execution_count": 58,
   "id": "64f098c5-eff0-479f-b88c-72c7b841be7b",
   "metadata": {},
   "outputs": [
    {
     "name": "stdout",
     "output_type": "stream",
     "text": [
      "[[ 1.+0.j  0.+1.j -1.+0.j -0.-1.j  1.+0.j  0.+1.j -1.+0.j -0.-1.j  1.+0.j\n",
      "   0.+1.j -1.+0.j -0.-1.j  1.+0.j  0.+1.j -1.+0.j -0.-1.j  1.+0.j  0.+1.j\n",
      "  -1.+0.j -0.-1.j  1.+0.j]]\n"
     ]
    }
   ],
   "source": [
    "import numpy as np\n",
    "k = np.arange(20,41,1)\n",
    "z = np.ones((1,21))*1j\n",
    "y = np.power(z,k) \n",
    "print(y)"
   ]
  },
  {
   "cell_type": "code",
   "execution_count": 59,
   "id": "68307e1a-f815-4222-abc0-6aab9d215f85",
   "metadata": {},
   "outputs": [
    {
     "name": "stdout",
     "output_type": "stream",
     "text": [
      "(-0.7999999999999998+1.5999999999999999j)\n",
      "-0.7999999999999998\n",
      "1.7888543819998315\n",
      "1.5999999999999999\n",
      "2.0344439357957027\n",
      "(-0.7999999999999998-1.5999999999999999j)\n"
     ]
    }
   ],
   "source": [
    "import numpy as np\n",
    "z = (2+5j)/(1-3j) + 1/(1-1j)\n",
    "d = np.real(z)\n",
    "mn = np.imag(z)\n",
    "a = np.abs(z)  \n",
    "ar = np.angle(z) \n",
    "z1 = np.conj (z)\n",
    "print(z)\n",
    "print(d)\n",
    "print(a)\n",
    "print(mn)\n",
    "print(ar)\n",
    "print(z1)"
   ]
  },
  {
   "cell_type": "code",
   "execution_count": 60,
   "id": "f8b5f981-16e1-4894-9e75-611e2b779f31",
   "metadata": {},
   "outputs": [
    {
     "name": "stdout",
     "output_type": "stream",
     "text": [
      "-3.9999999999999996j\n",
      "(0.5000000000000001-0.8660254037844387j)\n"
     ]
    }
   ],
   "source": [
    "import numpy as np\n",
    "z1 = 3**0.5 - 1j\n",
    "z2 = 1+1j*3**0.5\n",
    "z3 = np.conj(z1)\n",
    "z4 = np.conj(z2)\n",
    "p = z1*z4\n",
    "d = (z3/z2)**2\n",
    "print(p)\n",
    "print(d)"
   ]
  },
  {
   "cell_type": "code",
   "execution_count": 61,
   "id": "8cb18ca1-8544-4c88-be76-cbcc429dece4",
   "metadata": {},
   "outputs": [
    {
     "name": "stdout",
     "output_type": "stream",
     "text": [
      "23.0\n",
      "23.08679276123039\n",
      "-2.0\n",
      "-0.08673833867598511\n",
      "(23+2j)\n"
     ]
    }
   ],
   "source": [
    "import numpy as np\n",
    "z = (5-4j)*(3-2j*1j*1j)\n",
    "d = np.real(z)\n",
    "mn = np.imag(z)\n",
    "a = np.abs(z)  \n",
    "ar = np.angle(z) \n",
    "z1 = np.conj (z)\n",
    "print(d)\n",
    "print(a)\n",
    "print(mn)\n",
    "print(ar)\n",
    "print(z1)"
   ]
  },
  {
   "cell_type": "code",
   "execution_count": 62,
   "id": "6c1704ca-c603-45a0-95ae-395d6c300946",
   "metadata": {},
   "outputs": [
    {
     "name": "stdout",
     "output_type": "stream",
     "text": [
      "-64.0\n",
      "90.50966799187809\n",
      "64.0\n",
      "2.356194490192345\n",
      "(-64-64j)\n"
     ]
    }
   ],
   "source": [
    "import numpy as np\n",
    "z = (1-1j)**13\n",
    "d = np.real(z)\n",
    "mn = np.imag(z)\n",
    "a = np.abs(z)  \n",
    "ar = np.angle(z) \n",
    "z1 = np.conj (z)\n",
    "print(d)\n",
    "print(a)\n",
    "print(mn)\n",
    "print(ar)\n",
    "print(z1)"
   ]
  },
  {
   "cell_type": "code",
   "execution_count": 68,
   "id": "d1d27ba2-6fe7-41a4-a301-5094ca55019c",
   "metadata": {},
   "outputs": [
    {
     "data": {
      "text/plain": [
       "Text(0, 0.5, 'Im(z)')"
      ]
     },
     "execution_count": 68,
     "metadata": {},
     "output_type": "execute_result"
    },
    {
     "data": {
      "image/png": "[encoded data removed]",
      "text/plain": [
       "<Figure size 432x288 with 1 Axes>"
      ]
     },
     "metadata": {
      "needs_background": "light"
     },
     "output_type": "display_data"
    }
   ],
   "source": [
    "import matplotlib.pyplot as plt\n",
    "import numpy as np\n",
    "z = -1-1j*np.sqrt(3)\n",
    "r = np.abs(z)\n",
    "phi=np.angle(z)\n",
    "k = np.arange(1,7)\n",
    "zroot = r**(1/6)*( np.cos((phi+2.0*np.pi*k)/6) + 1j*np.sin((phi+2.0*np.pi*k)/6))\n",
    "plt.axis([-7,7,-7,7])\n",
    "plt.title('$\\sqrt[6]{-1-sqrt(3)*j}$ complex roots')\n",
    "plt.plot(np.real(zroot), np.imag(zroot), '*g')\n",
    "plt.axhline(y=0, color='k')\n",
    "plt.axvline(x=0, color='k')\n",
    "plt.axis('equal')\n",
    "plt.grid(True)\n",
    "t = np.linspace(0,2*np.pi,1000)\n",
    "plt.plot(r**(1/6)*np.cos(t),r**(1/6)*np.sin(t),':')\n",
    "x1=np.real(zroot[1])\n",
    "y1=np.imag(zroot[1])\n",
    "x2=np.real(zroot[2])\n",
    "y2=np.imag(zroot[2])\n",
    "x3=np.real(zroot[3])\n",
    "y3=np.imag(zroot[3])\n",
    "x4=np.real(zroot[4])\n",
    "y4=np.imag(zroot[4])\n",
    "plt.plot([x1,x2],[y1,y2], '-.')\n",
    "plt.plot([x2,x3],[y2,y3], '-.')\n",
    "plt.plot([x3,x4],[y3,y4], '-.')\n",
    "plt.plot([x4,x1],[y4,y1], '-.')\n",
    "plt.xlabel('Re(z)')\n",
    "plt.ylabel('Im(z)')"
   ]
  },
  {
   "cell_type": "code",
   "execution_count": 72,
   "id": "f43a1722-f447-41e2-be7a-739006ade6e7",
   "metadata": {},
   "outputs": [
    {
     "data": {
      "text/plain": [
       "Text(0.5, 1.0, 'Arg = -pi/3')"
      ]
     },
     "execution_count": 72,
     "metadata": {},
     "output_type": "execute_result"
    },
    {
     "data": {
      "image/png": "[encoded data removed]",
      "text/plain": [
       "<Figure size 432x288 with 2 Axes>"
      ]
     },
     "metadata": {
      "needs_background": "light"
     },
     "output_type": "display_data"
    }
   ],
   "source": [
    "import matplotlib.pyplot as plt\n",
    "import numpy as np\n",
    "arg = -np.pi*3/4\n",
    "r  = np.linspace(-5,5,100)\n",
    "plt.subplot(2,2,1)\n",
    "z = r*(np.cos(arg)+1j*np.sin(arg))\n",
    "plt.plot(np.real(z),np.imag(z),'r')\n",
    "plt.axis('equal')\n",
    "plt.axhline(y=0, color='k')\n",
    "plt.axvline(x=0, color='k')\n",
    "plt.xlabel('Re(z)')\n",
    "plt.ylabel('Im(z)')\n",
    "plt.grid(True)\n",
    "plt.title('Arg = -3pi/4')\n",
    "plt.subplot(2,2,2)\n",
    "arg1 = -np.pi/3\n",
    "z1 = r*(np.cos(arg1)+1j*np.sin(arg1))\n",
    "plt.plot(np.real(z1),np.imag(z1),'r')\n",
    "plt.grid(True)\n",
    "plt.axis('equal')\n",
    "plt.axhline(y=0, color='k')\n",
    "plt.axvline(x=0, color='k')\n",
    "plt.xlabel('Re(z)')\n",
    "plt.ylabel('Im(z)')\n",
    "plt.title('Arg = -pi/3')"
   ]
  },
  {
   "cell_type": "code",
   "execution_count": null,
   "id": "3c08b296-41da-4177-9568-d1e254727298",
   "metadata": {},
   "outputs": [],
   "source": []
  }
 ],
 "metadata": {
  "kernelspec": {
   "display_name": "Python 3 (ipykernel)",
   "language": "python",
   "name": "python3"
  },
  "language_info": {
   "codemirror_mode": {
    "name": "ipython",
    "version": 3
   },
   "file_extension": ".py",
   "mimetype": "text/x-python",
   "name": "python",
   "nbconvert_exporter": "python",
   "pygments_lexer": "ipython3",
   "version": "3.9.12"
  }
 },
 "nbformat": 4,
 "nbformat_minor": 5
}
