{
 "cells": [
  {
   "cell_type": "code",
   "execution_count": 2,
   "id": "3942a56a-ef12-4d7a-a6e0-6a8c19d9b070",
   "metadata": {},
   "outputs": [
    {
     "name": "stdout",
     "output_type": "stream",
     "text": [
      "Variable   Type      Data/Info\n",
      "------------------------------\n",
      "sp         module    <module 'sympy' from 'C:\\<...>ges\\\\sympy\\\\__init__.py'>\n",
      "x          Symbol    x\n"
     ]
    }
   ],
   "source": [
    "import sympy as sp\n",
    "x = sp.Symbol('x')\n",
    "%whos"
   ]
  },
  {
   "cell_type": "code",
   "execution_count": 4,
   "id": "4a1f6209-0086-489b-8c17-9d0faca8eb2a",
   "metadata": {},
   "outputs": [
    {
     "name": "stdout",
     "output_type": "stream",
     "text": [
      "[a₀, a₁, a₂]\n"
     ]
    }
   ],
   "source": [
    "import sympy as sp\n",
    "n = 3 # число переменных\n",
    "# a = список из символьных перменных a1 …, an :\n",
    "a = [sp.symbols('a%d' % i) for i in range(n)]\n",
    "# оператор for в данном выражении выступает в качестве квантора «для любых», а не в качестве обозначения цикла\n",
    "sp.pprint(a)\n",
    "# печать в \"красивом\" формате символьных выражений"
   ]
  },
  {
   "cell_type": "code",
   "execution_count": 5,
   "id": "620d8851-73d9-4256-a703-31f37bfddcf6",
   "metadata": {},
   "outputs": [
    {
     "name": "stdout",
     "output_type": "stream",
     "text": [
      "   2                    2\n",
      "α⋅x  - 3⋅β⋅z + 2⋅x⋅y - z \n"
     ]
    }
   ],
   "source": [
    "import sympy as sp\n",
    "from sympy.abc import x,y,z,alpha,beta\n",
    "sp.pprint(alpha*x**2+2*x*y-3*beta*z-z**2)"
   ]
  },
  {
   "cell_type": "code",
   "execution_count": 6,
   "id": "3822653b-d483-43aa-bfd5-19b5a1ff8325",
   "metadata": {},
   "outputs": [
    {
     "name": "stdout",
     "output_type": "stream",
     "text": [
      "sin(π)\n",
      "0\n"
     ]
    }
   ],
   "source": [
    "import sympy as sp\n",
    "from sympy.abc import pi\n",
    "sp.pprint(sp.sin(pi)) # просто греческая буква\n",
    "print(sp.sin(sp.pi)) # символьное число пи"
   ]
  },
  {
   "cell_type": "code",
   "execution_count": 7,
   "id": "5007b40b-51d0-41cd-9904-9940c26d3b68",
   "metadata": {},
   "outputs": [
    {
     "name": "stdout",
     "output_type": "stream",
     "text": [
      "   2         2   \n",
      "sin (x) + cos (x)\n",
      "\n",
      " after simplify = 1\n"
     ]
    }
   ],
   "source": [
    "import sympy as sp\n",
    "from sympy.abc import x,y\n",
    "v = sp.sin(x)**2+sp.cos(x)**2\n",
    "sp.pprint(v)\n",
    "print('\\n after simplify = '+str(sp.simplify(v)))\n",
    "# \\n означает перевод на новую строку"
   ]
  },
  {
   "cell_type": "code",
   "execution_count": 11,
   "id": "75689c93-d1fd-4dbd-9045-f403e8c8edf6",
   "metadata": {},
   "outputs": [
    {
     "name": "stdout",
     "output_type": "stream",
     "text": [
      " 7      2    \n",
      "x  + 3⋅x  - 4\n",
      "─────────────\n",
      "    x - 1    \n",
      "\n",
      " after simplify = (x**7 + 3*x**2 - 4)/(x - 1)\n",
      "\n",
      " after factor = x**6 + x**5 + x**4 + x**3 + x**2 + 4*x + 4\n"
     ]
    }
   ],
   "source": [
    "import sympy as sp\n",
    "from sympy.abc import x,y\n",
    "v = (x**7 + 3*x**2 - 4)/(x-1)\n",
    "sp.pprint(v)\n",
    "print('\\n after simplify = '+str(sp.simplify(v)))\n",
    "print('\\n after factor = '+str(sp.factor(v)))"
   ]
  },
  {
   "cell_type": "code",
   "execution_count": 12,
   "id": "14df04d8-26b2-4d15-96ff-7236d68c878f",
   "metadata": {},
   "outputs": [
    {
     "name": "stdout",
     "output_type": "stream",
     "text": [
      " 4    \n",
      "x  + 4\n",
      " 7    \n",
      "x  + 1\n",
      "   3    2          2      3\n",
      "2⋅x  + x ⋅y - 5⋅x⋅y  + 2⋅y \n",
      "\n",
      " 1) after factor = (x**2 - 2*x + 2)*(x**2 + 2*x + 2)\n",
      "\n",
      " 2) after factor = (x + 1)*(x**6 - x**5 + x**4 - x**3 + x**2 - x + 1)\n",
      "\n",
      " 3) after factor = (x - y)*(x + 2*y)*(2*x - y)\n"
     ]
    }
   ],
   "source": [
    "import sympy as sp\n",
    "from sympy.abc import x,y\n",
    "v1 = (x**4 + 4)\n",
    "v2 = (x**7 + 1)\n",
    "v3 = (2*x**3 + x**2*y-5*x*y**2+2*y**3)\n",
    "sp.pprint(v1)\n",
    "sp.pprint(v2)\n",
    "sp.pprint(v3)\n",
    "print('\\n 1) after factor = '+str(sp.factor(v1)))\n",
    "print('\\n 2) after factor = '+str(sp.factor(v2)))\n",
    "print('\\n 3) after factor = '+str(sp.factor(v3)))"
   ]
  },
  {
   "cell_type": "code",
   "execution_count": 14,
   "id": "ada5a7ba-8b80-4074-a503-7de2c02e214f",
   "metadata": {},
   "outputs": [
    {
     "name": "stdout",
     "output_type": "stream",
     "text": [
      "(2 ≤ x ∧ x < ∞) ∨ (x ≤ -2 ∧ -∞ < x)\n"
     ]
    }
   ],
   "source": [
    "import sympy as sp\n",
    "from sympy.abc import x\n",
    "a = sp.solve_univariate_inequality(x**2>=4,x)\n",
    "# Без указаний дополнительных параметров мы получим символьное описание интервала\n",
    "sp.pprint(a)"
   ]
  },
  {
   "cell_type": "code",
   "execution_count": 29,
   "id": "b97437ea-0df7-40cd-b12d-d2ea41d5828f",
   "metadata": {},
   "outputs": [
    {
     "name": "stdout",
     "output_type": "stream",
     "text": [
      "[-3, -2] ∪ [2, 3]\n"
     ]
    }
   ],
   "source": [
    "import sympy as sp\n",
    "from sympy.abc import x\n",
    "a = sp.solve_univariate_inequality(x**2>=4,x,relational=False)\n",
    "# указав relational=False мы запишем в а решение в форме множества\n",
    "b = sp.solve_univariate_inequality(x**2<=9,x,relational=False)\n",
    "# тоже самое делаем для решения второго неравенства\n",
    "c = sp.Intersection(a,b)\n",
    "# берем объдинение двух множеств и получам наш ответ\n",
    "sp.pprint(c)"
   ]
  },
  {
   "cell_type": "code",
   "execution_count": 37,
   "id": "ffb87e70-205c-4b9b-bfe7-fe1ebca05dfc",
   "metadata": {},
   "outputs": [
    {
     "data": {
      "text/latex": [
       "$\\displaystyle \\left(-\\infty, -2.449\\right) \\cup \\left(2.449, \\infty\\right)$"
      ],
      "text/plain": [
       "Union(Interval.open(-oo, -2.449), Interval.open(2.449, oo))"
      ]
     },
     "execution_count": 37,
     "metadata": {},
     "output_type": "execute_result"
    }
   ],
   "source": [
    "import sympy as sp\n",
    "from sympy.abc import x\n",
    "a = sp.solve_univariate_inequality(sp.Abs(x**2-3)>3,x,relational=False)\n",
    "sp.N(a,4) # округление до 4 десятичных знаков"
   ]
  },
  {
   "cell_type": "code",
   "execution_count": 35,
   "id": "57ab3fd0-6ccc-46ff-978e-06840d02ac52",
   "metadata": {},
   "outputs": [
    {
     "data": {
      "text/latex": [
       "$\\displaystyle \\left(0.81773, \\infty\\right)$"
      ],
      "text/plain": [
       "Interval.open(0.81773, oo)"
      ]
     },
     "execution_count": 35,
     "metadata": {},
     "output_type": "execute_result"
    }
   ],
   "source": [
    "import sympy as sp\n",
    "from sympy.abc import x\n",
    "b = sp.solve_univariate_inequality((x**3+3*x)>3,x,relational=False)\n",
    "sp.N(b,5) # округление до 4 десятичных знаков"
   ]
  },
  {
   "cell_type": "code",
   "execution_count": 38,
   "id": "5d8756bb-4dbb-474b-948a-727efc3c502e",
   "metadata": {},
   "outputs": [
    {
     "data": {
      "text/latex": [
       "$\\displaystyle \\left(45.6410785465307, \\infty\\right)$"
      ],
      "text/plain": [
       "Interval.open(45.6410785465307, oo)"
      ]
     },
     "execution_count": 38,
     "metadata": {},
     "output_type": "execute_result"
    }
   ],
   "source": [
    "import sympy as sp\n",
    "from sympy.abc import n\n",
    "a = sp.solve_univariate_inequality(sp.Abs(((n**3+3*n+10)/(2*n**3-\n",
    "2*n+5))-0.5)<0.001,n,relational=False)\n",
    "b = sp.solve_univariate_inequality(n>0,n,relational=False)\n",
    "# отбросим отрицательные значения\n",
    "sp.Intersection(a,b)\n"
   ]
  },
  {
   "cell_type": "code",
   "execution_count": null,
   "id": "78b8eda8-7591-484a-93ad-b7e457dc46a6",
   "metadata": {},
   "outputs": [],
   "source": [
    " "
   ]
  }
 ],
 "metadata": {
  "kernelspec": {
   "display_name": "Python 3 (ipykernel)",
   "language": "python",
   "name": "python3"
  },
  "language_info": {
   "codemirror_mode": {
    "name": "ipython",
    "version": 3
   },
   "file_extension": ".py",
   "mimetype": "text/x-python",
   "name": "python",
   "nbconvert_exporter": "python",
   "pygments_lexer": "ipython3",
   "version": "3.9.12"
  }
 },
 "nbformat": 4,
 "nbformat_minor": 5
}
